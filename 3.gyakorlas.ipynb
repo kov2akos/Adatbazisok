{
    "metadata": {
        "kernelspec": {
            "name": "SQL",
            "display_name": "SQL",
            "language": "sql"
        },
        "language_info": {
            "name": "sql",
            "version": ""
        }
    },
    "nbformat_minor": 2,
    "nbformat": 4,
    "cells": [
        {
            "cell_type": "markdown",
            "source": [
                "Első feladat:\n",
                "\n",
                "A MongoDB Atlas<span style=\"color: #000000;\">-</span>ban (vagy a Compass<span style=\"color: #000000;\">-</span>ban) navigáljon a sample\\_mflix adatbázishoz, és kérdezze le a movies gyűjteményt az alábbiak szerint:\n",
                "\n",
                "A nyelvek közül a legelső English legyen ÉS\n",
                "\n",
                "A film <span style=\"color: #09885a;\">2</span> alkalommal lett díjazva (awards.wins)\n",
                "\n",
                "Csak a filmek címe, írói, rendezői és az év mezők jelenjenek meg\n",
                "\n",
                "Rendezzük sorba a filmeket év szerint csökkenően\n",
                "\n",
                "Beadandó: a <span style=\"color: #0000ff;\">Filter</span>, Project és a Sort részbe írt kódok"
            ],
            "metadata": {
                "azdata_cell_guid": "d79c3438-f045-4686-8ffd-daeb8a30666e"
            },
            "attachments": {}
        },
        {
            "cell_type": "code",
            "source": [
                "{ $filter { \"languages.0\": \"English\", \"awards.wins\": 2 } },\r\n",
                "{ $project: { _id: 0, title: 1, writers: 1, directors: 1, year: 1 } },\r\n",
                "{ $sort: { year: -1 } } ;"
            ],
            "metadata": {
                "azdata_cell_guid": "8a6513e2-1a20-436d-9e1c-9d91fc6c6ecf",
                "language": "sql"
            },
            "outputs": [],
            "execution_count": null
        },
        {
            "cell_type": "markdown",
            "source": [
                "Második:  \n",
                "  \n",
                "A MongoDB shell-ben csatlakozzon a sample\\_mflix adatbázishoz, és kérdezze le a users gyűjteményt az alábbiak szerint:\n",
                "\n",
                "- <span style=\"box-sizing: border-box; font-size: 0.9375rem;\">Csak a felhasználók neve és email címe jelenjen meg</span>\n",
                "- Az email cím tartalmazza a .com karaktersorozatot.\n",
                "\n",
                "Beadandó: a megfelelő utasítás"
            ],
            "metadata": {
                "azdata_cell_guid": "cf60c995-5889-4288-ba25-2e0303419f2b"
            },
            "attachments": {}
        },
        {
            "cell_type": "code",
            "source": [
                "db.users.find( { \"email\": { $regex: /.com/ } }, { \"name\": 1, \"email\": 1, \"_id\": 0 } );"
            ],
            "metadata": {
                "azdata_cell_guid": "1cf6a7c3-f3d9-43db-af64-878b5a311cf1",
                "language": "sql"
            },
            "outputs": [],
            "execution_count": null
        },
        {
            "cell_type": "markdown",
            "source": [
                "<span id=\"yui_3_18_1_1_1715176481725_1145\" style=\"box-sizing: border-box; font-size: 0.9375rem;\">harmadik:</span>\n",
                "\n",
                "<span style=\"box-sizing: border-box; font-size: 0.9375rem;\"><br>A lekérdezés feleljen meg a következő SQL lekérdezésnek:</span>\n",
                "\n",
                "<span id=\"yui_3_18_1_1_1715176481725_1143\" style=\"box-sizing: border-box; color: rgb(0, 0, 0); font-family: &quot;Open Sans&quot;, sans-serif; background-color: rgb(255, 255, 255); font-size: 0.9375rem;\">SELECT rated, AVG(runtime)<br style=\"box-sizing: border-box;\">FROM movies<br style=\"box-sizing: border-box;\"></span><span style=\"color: rgb(0, 0, 0); font-family: &quot;Open Sans&quot;, sans-serif; font-size: 14.44px; background-color: rgb(255, 255, 255);\">WHERE year &gt; 1950</span>  \n",
                "<span style=\"box-sizing: border-box; color: rgb(0, 0, 0); font-family: &quot;Open Sans&quot;, sans-serif; background-color: rgb(255, 255, 255); font-size: 0.9375rem;\">GROUP BY rated</span>  \n",
                "\n",
                "  \n",
                "\n",
                "Beadandó a lekérdező utasítás"
            ],
            "metadata": {
                "language": "sql",
                "azdata_cell_guid": "454b51ee-2442-4108-a2e6-739b3e5bffce"
            },
            "attachments": {}
        },
        {
            "cell_type": "code",
            "source": [
                "db.movies.aggregate([\r\n",
                "{\r\n",
                "        $match: {\r\n",
                "            year: { $gt: 1950 }\r\n",
                "        }\r\n",
                "    },\r\n",
                "    {\r\n",
                "        $group: {\r\n",
                "            _id: \"$rated\",\r\n",
                "            averageRuntime: { $avg: \"$runtime\" }\r\n",
                "        }\r\n",
                "    },\r\n",
                "    {\r\n",
                "        $project: {\r\n",
                "            _id: 0,\r\n",
                "            rated: \"$_id\",\r\n",
                "            averageRuntime: 1\r\n",
                "        }\r\n",
                "    }\r\n",
                "]);"
            ],
            "metadata": {
                "azdata_cell_guid": "43fe8c28-892d-4af5-8b91-037044a9c2ac",
                "language": "sql"
            },
            "outputs": [],
            "execution_count": null
        },
        {
            "cell_type": "markdown",
            "source": [
                "negyedik\n",
                "\n",
                "Csatlakozzon a Movies adatbázishoz a Neo4J Sandbox-ban (vagy a Desktop-ban), és kérdezze le a következőket:\n",
                "\n",
                "- Listázzuk a filmek szereplőit\n",
                "- A szereplő neve, a film címe és a film megjelenés éve jelenjen meg\n",
                "- Szűrjünk az 1960 utáni évekre\n",
                "- Nevezzük el a megjelenített mezőket\n",
                "- Rendezzük sorba az eredményt évszám szerint csökkenően\n",
                "\n",
                "Beadandó: a megfelelő utasítás"
            ],
            "metadata": {
                "language": "sql",
                "azdata_cell_guid": "c9741eb3-f16c-420f-a4f8-6e510c5dba9b"
            },
            "attachments": {}
        },
        {
            "cell_type": "code",
            "source": [
                "MATCH (p:Person)-[:ACTED_IN]->(m:Movie)\r\n",
                "WHERE m.released > 1960\r\n",
                "RETURN p.name AS SzineszNeve, m.title AS FilmCime, m.released AS Mikori\r\n",
                "ORDER BY m.released DESC"
            ],
            "metadata": {
                "language": "sql",
                "azdata_cell_guid": "ece7aeb4-645c-4500-90c8-d7359c6f51cc"
            },
            "outputs": [],
            "execution_count": null
        },
        {
            "cell_type": "markdown",
            "source": [
                "Utso:  \n",
                "  \n",
                "\n",
                "A neo4j Sandbox-ban (vagy a Desktop-ban) csatlakozzon a Movies adatbázishoz, és kérdezze le a következő SQL-lekérdezésnek megfelelő adatokat:\n",
                "\n",
                "SELECT p.name, COUNT(\\*)\n",
                "\n",
                "FROM Movies m\n",
                "\n",
                "JOIN Person p ON m.director\\_id = p.id\n",
                "\n",
                "WHERE m.released \\< 2000\n",
                "\n",
                "GROUP BY p.name\n",
                "\n",
                "HAVING COUNT(\\*) \\> 1"
            ],
            "metadata": {
                "language": "sql",
                "azdata_cell_guid": "ade36972-a6bb-4911-ba48-f1f71e6fee8e"
            },
            "attachments": {}
        },
        {
            "cell_type": "code",
            "source": [
                "MATCH (p:Person)-[:DIRECTED]->(m:Movie)\r\n",
                "WHERE m.released < 2000\r\n",
                "WITH p.name AS Rendezo, COUNT(m) AS HanyatRendezett\r\n",
                "WHERE HanyatRendezett > 1\r\n",
                "RETURN Rendezo, HanyatRendezett\r\n",
                "ORDER BY HanyatRendezett DESC\r\n",
                "\r\n",
                "\r\n",
                "\r\n",
                ""
            ],
            "metadata": {
                "language": "sql",
                "azdata_cell_guid": "7a72823f-275a-4ca8-bf9c-6d0a8cc592ba"
            },
            "outputs": [],
            "execution_count": null
        }
    ]
}